{
 "cells": [
  {
   "cell_type": "markdown",
   "metadata": {},
   "source": [
    "<h1>Jupyter-Notebook example queries</h1>\n",
    "\n",
    "Below some example queries to the vocabulary server METNOVS are reported. "
   ]
  },
  {
   "cell_type": "markdown",
   "metadata": {},
   "source": [
    "<h2>List of concepts</h2>\n",
    "\n",
    "Get all Concepts indexed in included in METNOVS. "
   ]
  },
  {
   "cell_type": "code",
   "execution_count": 1,
   "metadata": {},
   "outputs": [
    {
     "name": "stdout",
     "output_type": "stream",
     "text": [
      "http://vocab.met.no/collection/Use_Constraint/CC0-1.0\n",
      "http://vocab.met.no/collection/Use_Constraint/CC-BY-4.0\n",
      "http://vocab.met.no/collection/Use_Constraint/CC-BY-SA-4.0\n",
      "http://vocab.met.no/collection/Use_Constraint/CC-BY-NC-4.0\n",
      "http://vocab.met.no/collection/Use_Constraint/CC-BY-NC-SA-4.0\n",
      "http://vocab.met.no/collection/Use_Constraint/CC-BY-ND-4.0\n",
      "http://vocab.met.no/collection/Use_Constraint/CC-BY-NC-ND-4.0\n",
      "http://vocab.met.no/collection/Dataset_Production_Status/Planned\n",
      "http://vocab.met.no/collection/Dataset_Production_Status/InWork\n",
      "http://vocab.met.no/collection/Dataset_Production_Status/Complete\n",
      "http://vocab.met.no/collection/Dataset_Production_Status/Obsolete\n",
      "http://vocab.met.no/collection/Activity_Type/Aircraft\n",
      "http://vocab.met.no/collection/Activity_Type/SpaceBorneInstrument\n",
      "http://vocab.met.no/collection/Activity_Type/NumericalSimulation\n",
      "http://vocab.met.no/collection/Activity_Type/ClimateIndicator\n",
      "http://vocab.met.no/collection/Activity_Type/InSituLandBasedStation\n",
      "http://vocab.met.no/collection/Activity_Type/InSituShipBasedStation\n",
      "http://vocab.met.no/collection/Activity_Type/InSituOceanFixedStation\n",
      "http://vocab.met.no/collection/Activity_Type/InSituOceanMovingStation\n",
      "http://vocab.met.no/collection/Activity_Type/InSituIceBasedStation\n",
      "http://vocab.met.no/collection/Activity_Type/Interview-Questionnaire\n",
      "http://vocab.met.no/collection/Activity_Type/Maps-Charts-Photographs\n",
      "http://vocab.met.no/collection/ISO_Topic_Category/inlandWaters\n",
      "http://vocab.met.no/collection/ISO_Topic_Category/intelligenceMilitary\n",
      "http://vocab.met.no/collection/ISO_Topic_Category/climatologyMeteorologyAtmosphere\n",
      "http://vocab.met.no/collection/ISO_Topic_Category/utilitiesCommunications\n",
      "http://vocab.met.no/collection/ISO_Topic_Category/farming\n",
      "http://vocab.met.no/collection/ISO_Topic_Category/imageryBaseMapsEarthCover\n",
      "http://vocab.met.no/collection/ISO_Topic_Category/structure\n",
      "http://vocab.met.no/collection/ISO_Topic_Category/health\n",
      "http://vocab.met.no/collection/ISO_Topic_Category/elevation\n",
      "http://vocab.met.no/collection/ISO_Topic_Category/society\n",
      "http://vocab.met.no/collection/ISO_Topic_Category/environment\n",
      "http://vocab.met.no/collection/ISO_Topic_Category/extraTerrestrial\n",
      "http://vocab.met.no/collection/ISO_Topic_Category/biota\n",
      "http://vocab.met.no/collection/ISO_Topic_Category/disaster\n",
      "http://vocab.met.no/collection/ISO_Topic_Category/transportation\n",
      "http://vocab.met.no/collection/ISO_Topic_Category/geoscientificInformation\n",
      "http://vocab.met.no/collection/ISO_Topic_Category/oceans\n",
      "http://vocab.met.no/collection/ISO_Topic_Category/economy\n",
      "http://vocab.met.no/collection/ISO_Topic_Category/planningCadastre\n",
      "http://vocab.met.no/collection/ISO_Topic_Category/location\n",
      "http://vocab.met.no/collection/ISO_Topic_Category/boundaries\n",
      "http://vocab.met.no/collection/Access_Constraint/Open\n",
      "http://vocab.met.no/collection/Access_Constraint/RegisteredUsersOnlyAutomatedApproval\n",
      "http://vocab.met.no/collection/Access_Constraint/RegisteredUsersOnlyManualApproval\n",
      "http://vocab.met.no/collection/Access_Constraint/RestrictedToACommunity\n",
      "http://vocab.met.no/collection/Access_Constraint/RestrictedAccessToMetadata\n",
      "http://vocab.met.no/collection/Areas/Arctic\n",
      "http://vocab.met.no/collection/Areas/BarentsSea\n",
      "http://vocab.met.no/collection/Areas/BeaufortSea\n",
      "http://vocab.met.no/collection/Areas/ChukchiSea\n",
      "http://vocab.met.no/collection/Areas/DenmarkStrait\n",
      "http://vocab.met.no/collection/Areas/EastSiberianSea\n",
      "http://vocab.met.no/collection/Areas/FramStrait\n",
      "http://vocab.met.no/collection/Areas/GreenlandSea\n",
      "http://vocab.met.no/collection/Areas/IcelandSea\n",
      "http://vocab.met.no/collection/Areas/KaraSea\n",
      "http://vocab.met.no/collection/Areas/LaptevSea\n",
      "http://vocab.met.no/collection/Areas/NordicSeas\n",
      "http://vocab.met.no/collection/Areas/NorthernHemisphere\n",
      "http://vocab.met.no/collection/Areas/NorthSea\n",
      "http://vocab.met.no/collection/Areas/NorwegianSea\n",
      "http://vocab.met.no/collection/Areas/WhiteSea\n",
      "http://vocab.met.no/collection/Platform/Sentinel-1A\n",
      "http://vocab.met.no/collection/Platform/Sentinel-1B\n",
      "http://vocab.met.no/collection/Platform/Sentinel-2A\n",
      "http://vocab.met.no/collection/Platform/Sentinel-2B\n",
      "http://vocab.met.no/collection/Platform/Sentinel-3A\n",
      "http://vocab.met.no/collection/Platform/Sentinel-3B\n",
      "http://vocab.met.no/collection/Platform/Metop-A\n",
      "http://vocab.met.no/collection/Platform/Metop-B\n",
      "http://vocab.met.no/collection/Platform/Metop-C\n",
      "http://vocab.met.no/collection/Platform/NOAA-18\n",
      "http://vocab.met.no/collection/Platform/NOAA-19\n",
      "http://vocab.met.no/collection/Platform/NOAA-20\n",
      "http://vocab.met.no/collection/Platform/SNPP\n",
      "http://vocab.met.no/collection/Platform/Aqua\n",
      "http://vocab.met.no/collection/Platform/Terra\n",
      "http://vocab.met.no/collection/Platform/FY-3D\n",
      "http://vocab.met.no/collection/Platform/FY-3E\n",
      "http://vocab.met.no/collection/Instrument/SAR-C\n",
      "http://vocab.met.no/collection/Instrument/MSI\n",
      "http://vocab.met.no/collection/Instrument/OLCI\n",
      "https://www.wmo-sat.info/oscar/instruments/view/slstr\n",
      "http://vocab.met.no/collection/Operational_Status/Operational\n",
      "http://vocab.met.no/collection/Operational_Status/Pre-Operational\n",
      "http://vocab.met.no/collection/Operational_Status/Experimental\n",
      "http://vocab.met.no/collection/Operational_Status/Scientific\n"
     ]
    }
   ],
   "source": [
    "from SPARQLWrapper import SPARQLWrapper, JSON\n",
    "\n",
    "sparql = SPARQLWrapper(\"http://vocab.met.no:3030/collection/sparql\") \n",
    "sparql.setQuery(\"\"\"\n",
    "\n",
    "prefix skos:<http://www.w3.org/2004/02/skos/core#>\n",
    "prefix text:<http://jena.apache.org/text#>\n",
    "prefix rdf:<http://www.w3.org/1999/02/22-rdf-syntax-ns#>\n",
    "prefix owl:<http://www.w3.org/2002/07/owl#> \n",
    "prefix dc:<http://purl.org/dc/terms/>\n",
    "\n",
    "select ?subject \n",
    "where {\n",
    "  ?subject rdf:type skos:Concept .\n",
    "}\n",
    "\"\"\")\n",
    "sparql.setReturnFormat(JSON)\n",
    "results = sparql.query().convert()\n",
    "#print(results) \n",
    "for result in results[\"results\"][\"bindings\"]:\n",
    "    print(result[\"subject\"][\"value\"])"
   ]
  },
  {
   "cell_type": "markdown",
   "metadata": {},
   "source": [
    "<h2>List of collections</h2>\n",
    "\n",
    "Get all collections included in METNOVS"
   ]
  },
  {
   "cell_type": "code",
   "execution_count": 2,
   "metadata": {},
   "outputs": [
    {
     "name": "stdout",
     "output_type": "stream",
     "text": [
      "http://vocab.met.no/collection/Use_Constraint\n",
      "http://vocab.met.no/collection/Dataset_Production_Status\n",
      "http://vocab.met.no/collection/Activity_Type\n",
      "http://vocab.met.no/collection/ISO_Topic_Category\n",
      "http://vocab.met.no/collection/Access_Constraint\n",
      "http://vocab.met.no/collection/Areas\n",
      "http://vocab.met.no/collection/Platform\n",
      "http://vocab.met.no/collection/Instrument\n",
      "http://vocab.met.no/collection/Operational_Status\n"
     ]
    }
   ],
   "source": [
    "sparql.setQuery(\"\"\"\n",
    "\n",
    "prefix skos:<http://www.w3.org/2004/02/skos/core#>\n",
    "prefix text:<http://jena.apache.org/text#>\n",
    "prefix rdf:<http://www.w3.org/1999/02/22-rdf-syntax-ns#>\n",
    "prefix owl:<http://www.w3.org/2002/07/owl#> \n",
    "prefix dc:<http://purl.org/dc/terms/>\n",
    "\n",
    "select distinct ?collection ?definition WHERE {\n",
    "  ?collection rdf:type skos:Collection .\n",
    "  ?collection skos:definition ?definition .\n",
    "}\n",
    "\"\"\")\n",
    "sparql.setReturnFormat(JSON)\n",
    "results = sparql.query().convert()\n",
    "#print(results) \n",
    "for result in results[\"results\"][\"bindings\"]:\n",
    "    print(result[\"collection\"][\"value\"],\n",
    "          #sep=\" --- \"\n",
    "         )"
   ]
  },
  {
   "cell_type": "markdown",
   "metadata": {},
   "source": [
    "<h2>Get valid labels per collection</h2>\n",
    " \n",
    " Get all the valid labels that can be used in the Collections included in METNOVS.\n",
    " This can be used to validate if a metadata record is compliant with the supported vocabulary."
   ]
  },
  {
   "cell_type": "code",
   "execution_count": 3,
   "metadata": {},
   "outputs": [
    {
     "name": "stdout",
     "output_type": "stream",
     "text": [
      "Use Constraint has valid values:\n",
      " ['CC0-1.0', 'CC-BY-4.0', 'CC-BY-SA-4.0', 'CC-BY-NC-4.0', 'CC-BY-NC-SA-4.0', 'CC-BY-ND-4.0', 'CC-BY-NC-ND-4.0']\n",
      "Dataset Production Status has valid values:\n",
      " ['Planned', 'In Work', 'Complete', 'Obsolete']\n",
      "Activity Type has valid values:\n",
      " ['Aircraft', 'Space Borne Instrument', 'Numerical Simulation', 'Climate Indicator', 'In Situ Land-based station', 'In Situ Ship-based station', 'In Situ Ocean fixed station', 'In Situ Ocean moving station', 'In Situ Ice-based station', 'Interview/Questionnaire', 'Maps/Charts/Photographs']\n",
      "ISO Topic Category has valid values:\n",
      " ['inlandWaters', 'intelligenceMilitary', 'climatologyMeteorologyAtmosphere', 'utilitiesCommunications', 'farming', 'imageryBaseMapsEarthCover', 'structure', 'health', 'elevation', 'society', 'environment', 'extraTerrestrial', 'biota', 'disaster', 'transportation', 'geoscientificInformation', 'oceans', 'economy', 'planningCadastre', 'location', 'boundaries']\n",
      "Access Constraint has valid values:\n",
      " ['Open', 'Registered users only (automated approval)', 'Registered users only (manual approval required)', 'Restricted to a community', 'Restricted access to metadata']\n",
      "Geographical Areas has valid values:\n",
      " ['Arctic', 'Barents Sea', 'Beaufort Sea', 'Chukchi Sea', 'Denmark Strait', 'East Siberian Sea', 'Fram Strait', 'Greenland Sea', 'Iceland Sea', 'Kara Sea', 'Laptev Sea', 'Nordic Seas', 'Northern Hemisphere', 'North Sea', 'Norwegian Sea', 'White Sea']\n",
      "Platform has valid values:\n",
      " ['Sentinel-1A', 'Sentinel-1B', 'Sentinel-2A', 'Sentinel-2B', 'Sentinel-3A', 'Sentinel-3B', 'Meteorological operational satellite - A', 'Meteorological operational satellite - B', 'Meteorological operational satellite - C', 'National Oceanic and Atmospheric Administration - 18', 'National Oceanic and Atmospheric Administration - 19', 'National Oceanic and Atmospheric Administration - 20', 'Suomi National Polar-orbiting Partnership', 'Earth Observation System - Aqua', 'Earth Observation System - Terra', 'Feng-Yun 3D', 'Feng-Yun 3E']\n",
      "Instrument has valid values:\n",
      " ['SAR-C', 'MSI', 'OLCI', 'SLSTR']\n",
      "Operational Status has valid values:\n",
      " ['Operational', 'Pre-Operational', 'Experimental', 'Scientific']\n"
     ]
    }
   ],
   "source": [
    "#Get all valid values per Collection\n",
    "#Get the list of collections included in METNOVS\n",
    "sparql.setQuery(\"\"\"\n",
    "\n",
    "prefix skos:<http://www.w3.org/2004/02/skos/core#>\n",
    "prefix text:<http://jena.apache.org/text#>\n",
    "prefix rdf:<http://www.w3.org/1999/02/22-rdf-syntax-ns#>\n",
    "prefix owl:<http://www.w3.org/2002/07/owl#> \n",
    "prefix dc:<http://purl.org/dc/terms/>\n",
    "\n",
    "select distinct ?collab ?conclab WHERE {\n",
    "  ?collection rdf:type skos:Collection .\n",
    "  ?collection skos:member ?concept .\n",
    "  ?concept skos:prefLabel ?conclab .\n",
    "  ?collection skos:prefLabel ?collab .\n",
    "}\n",
    "\"\"\")\n",
    "sparql.setReturnFormat(JSON)\n",
    "results = sparql.query().convert()\n",
    "valid_voc = {}\n",
    "new = {}\n",
    "for result in results[\"results\"][\"bindings\"]:\n",
    "    key = result[\"collab\"][\"value\"]\n",
    "    val = result[\"conclab\"][\"value\"]\n",
    "    if key not in valid_voc:\n",
    "        valid_voc[key] = []\n",
    "        valid_voc[key].append(val)\n",
    "    else:\n",
    "        valid_voc[key].append(val)\n",
    "\n",
    "for k,v in valid_voc.items():\n",
    "    print(k, 'has valid values:\\n', v)"
   ]
  },
  {
   "cell_type": "code",
   "execution_count": null,
   "metadata": {},
   "outputs": [],
   "source": []
  },
  {
   "cell_type": "code",
   "execution_count": null,
   "metadata": {},
   "outputs": [],
   "source": []
  }
 ],
 "metadata": {
  "kernelspec": {
   "display_name": "Python 3",
   "language": "python",
   "name": "python3"
  },
  "language_info": {
   "codemirror_mode": {
    "name": "ipython",
    "version": 3
   },
   "file_extension": ".py",
   "mimetype": "text/x-python",
   "name": "python",
   "nbconvert_exporter": "python",
   "pygments_lexer": "ipython3",
   "version": "3.6.9"
  }
 },
 "nbformat": 4,
 "nbformat_minor": 2
}
